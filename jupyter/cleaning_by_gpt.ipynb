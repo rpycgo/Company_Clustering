{
 "cells": [
  {
   "cell_type": "code",
   "execution_count": null,
   "metadata": {},
   "outputs": [],
   "source": [
    "import pandas as pd\n",
    "import pickle\n",
    "import re\n",
    "import openai\n",
    "from bs4 import BeautifulSoup\n",
    "from tqdm import tqdm"
   ]
  },
  {
   "cell_type": "markdown",
   "metadata": {},
   "source": [
    "# Preprocessing"
   ]
  },
  {
   "cell_type": "code",
   "execution_count": null,
   "metadata": {},
   "outputs": [],
   "source": [
    "def summarize(prompt, query, model):\n",
    "    query = re.sub('\\\\s{2,}', '', query)\n",
    "    query = f'''\n",
    "    {prompt}\n",
    "    \n",
    "    {query}\n",
    "    '''\n",
    "\n",
    "    messages = [{\n",
    "        \"role\": \"system\",\n",
    "        \"content\": \"You are a helpful assistant.\"\n",
    "    }, {\n",
    "        \"role\": \"user\",\n",
    "        \"content\": query\n",
    "    }]\n",
    "\n",
    "    return openai.ChatCompletion.create(model=model, messages=messages)"
   ]
  },
  {
   "cell_type": "code",
   "execution_count": null,
   "metadata": {},
   "outputs": [],
   "source": [
    "if __name__ == '__main__':\n",
    "    data_path = ''\n",
    "    data = pd.read_pickle(data_path).get('q1')\n",
    "    data = {key: value for key, value in data.items() if value.get('company_info')}\n",
    "    \n",
    "    OPENAI_API_KEY = ''\n",
    "    openai.api_key = OPENAI_API_KEY\n",
    "    model = \"gpt-3.5-turbo-0125\"\n",
    "    \n",
    "    for i, (key, value) in enumerate(tqdm(data.items())):\n",
    "        try:\n",
    "            company_info_summarized = summarize(\n",
    "                '회사 주요 내용 짧게 요약해줘',\n",
    "                BeautifulSoup(value.get('company_info'), 'lxml').text,\n",
    "                model,\n",
    "                )\n",
    "        except:\n",
    "            company_info_summarized = ''\n",
    "            \n",
    "        try:\n",
    "            business_info_summarized = summarize(\n",
    "                '사업 주요 내용 짧게 요약해줘',\n",
    "                BeautifulSoup(value.get('business_info'), 'lxml').text,\n",
    "                model,\n",
    "                )\n",
    "        except:\n",
    "            business_info_summarized = ''\n",
    "        \n",
    "        value.update({\n",
    "            'company_info_summarized': company_info_summarized,\n",
    "            'business_info_summarized': business_info_summarized,\n",
    "        })\n",
    "        \n",
    "        if i%5 == 0:\n",
    "            with open('./reports_1_summarize_by_gpt.pkl', 'wb') as file:\n",
    "                pickle.dump(data, file)"
   ]
  },
  {
   "cell_type": "markdown",
   "metadata": {},
   "source": [
    "# Check"
   ]
  },
  {
   "cell_type": "code",
   "execution_count": 28,
   "metadata": {},
   "outputs": [],
   "source": [
    "data = pd.read_pickle('./reports_1_summarize_by_gpt.pkl')\n",
    "data_w_summarization = {key: value for key, value in data.items() if value.get('company_info_summarized')}\n",
    "data_wo_summarization = {key: value for key, value in data.items() if not value.get('company_info_summarized')}"
   ]
  },
  {
   "cell_type": "code",
   "execution_count": 3,
   "metadata": {},
   "outputs": [
    {
     "data": {
      "text/plain": [
       "dict_keys(['079980', '005010', '000540', '003280'])"
      ]
     },
     "execution_count": 3,
     "metadata": {},
     "output_type": "execute_result"
    }
   ],
   "source": [
    "data_wo_summarization.keys()\n",
    "# 휴비스, 휴스틸, 흥국화재, 흥아해운"
   ]
  },
  {
   "cell_type": "code",
   "execution_count": 27,
   "metadata": {},
   "outputs": [],
   "source": [
    "def extract_information(item: dict, target: str):\n",
    "    text = item.get(target)\n",
    "    if item.get(target):\n",
    "        text = text.get('choices')[0].get('message').get('content')\n",
    "\n",
    "    return text"
   ]
  },
  {
   "cell_type": "code",
   "execution_count": 29,
   "metadata": {},
   "outputs": [
    {
     "name": "stderr",
     "output_type": "stream",
     "text": [
      "100%|██████████| 786/786 [00:00<00:00, 105011.24it/s]\n"
     ]
    }
   ],
   "source": [
    "for key, value in tqdm(data_w_summarization.items()):\n",
    "    value.update({\n",
    "        'company_info_summarized': extract_information(value, 'company_info_summarized'),\n",
    "        'business_info_summarized': extract_information(value, 'business_info_summarized'),\n",
    "    })"
   ]
  },
  {
   "cell_type": "code",
   "execution_count": 33,
   "metadata": {},
   "outputs": [
    {
     "data": {
      "text/plain": [
       "'회사는 주식회사 나이스홀딩스로 알려져 있으며, 주요 사업으로는 지주회사로써 자회사의 경영을 지원하는 홀딩스사업을 주로 하고 있습니다. 현재 39개의 종속회사를 보유하고 있으며, 주요 사업으로는 기업 및 개인신용정보사업, 신용카드 거래승인사업, CD/ATM 관리사업, 신용평가사업, 자산관리사업, 제조업 등을 영위하고 있습니다. 그 외에도 부동산 임대, 채권평가 및 컨설팅, 데이터분석, 경영컨설팅 등 다양한 사업을 진행하고 있습니다.회사는 2004년 유가증권시장에 상장되었으며, 현재 국내에서 각종 금융 및 비금융사업을 다각화하여 운영하고 있습니다. 또한, 마이데이터 사업 진출로 신규 사업 영역을 확대하고 있으며, 꾸준한 성장이 기대됩니다.회사 주소는 서울 영등포구에 위치하고 있으며, 홈페이지 주소는 http://www.nice.co.kr 입니다.'"
      ]
     },
     "execution_count": 33,
     "metadata": {},
     "output_type": "execute_result"
    }
   ],
   "source": [
    "data_w_summarization.get('034310').get('company_info_summarized')"
   ]
  },
  {
   "cell_type": "code",
   "execution_count": 35,
   "metadata": {},
   "outputs": [
    {
     "name": "stdout",
     "output_type": "stream",
     "text": [
      "주요 내용을 정리하면 아래와 같습니다:\n",
      "- 회사는 자회사의 지배와 경영을 위한 지주회사업을 주요 사업으로 하며, 다양한 분야의 종속회사를 보유하고 있음.\n",
      "- 종속회사들은 기업정보, 개인신용정보 사업, CD/ATM 관리, 금융서비스 제공, 무인주차장 운영, KIOSK 사업, 현금물류 등 다양한 사업을 영위.\n",
      "- 주요 종속회사로는 NICE평가정보㈜, 한국전자금융㈜, NICE정보통신㈜, 나이스인프라㈜, 케이아이에스정보통신㈜,㈜제이티넷, NICE페이먼츠㈜, ITM Semiconductor VIETNAM Co., Ltd., (주)NICE엘엠에스, LMS VINA Co., Ltd. 등이 있음.\n",
      "- 주요 사업으로는 정보제공, 금융서비스 제공, 부동산임대, 전자금융, 알루미늄 합금 제품 제조 등이 있음.\n"
     ]
    }
   ],
   "source": [
    "data_w_summarization.get('034310').get('business_info_summarized')"
   ]
  },
  {
   "cell_type": "code",
   "execution_count": 36,
   "metadata": {},
   "outputs": [],
   "source": [
    "with open('./reports_1_summarize_by_gpt_and_clean.pkl', 'wb') as file:\n",
    "    pickle.dump(data_w_summarization, file)"
   ]
  }
 ],
 "metadata": {
  "kernelspec": {
   "display_name": "Python 3.9.18 ('bard')",
   "language": "python",
   "name": "python3"
  },
  "language_info": {
   "codemirror_mode": {
    "name": "ipython",
    "version": 3
   },
   "file_extension": ".py",
   "mimetype": "text/x-python",
   "name": "python",
   "nbconvert_exporter": "python",
   "pygments_lexer": "ipython3",
   "version": "3.9.18"
  },
  "orig_nbformat": 4,
  "vscode": {
   "interpreter": {
    "hash": "3e87656446e3dfcdeb37f94122a4b3995250436afbd9f8654ae3c40cbe182bd3"
   }
  }
 },
 "nbformat": 4,
 "nbformat_minor": 2
}
