{
 "cells": [
  {
   "cell_type": "code",
   "execution_count": 1,
   "metadata": {},
   "outputs": [],
   "source": [
    "import pandas as pd\n",
    "import numpy as np\n",
    "import faiss"
   ]
  },
  {
   "cell_type": "code",
   "execution_count": 2,
   "metadata": {},
   "outputs": [],
   "source": [
    "data = pd.read_pickle('./data/reports_1_summarized_by_gpt_.pkl')"
   ]
  },
  {
   "cell_type": "code",
   "execution_count": 3,
   "metadata": {},
   "outputs": [],
   "source": [
    "company_name_company = np.array([value.get('company_abbreviation_name (kor)') for key, value in data.items() if value.get('company_info_summarized')])\n",
    "embedding_of_company_info_summarized = np.array([value.get('embedding_of_company_info_summarized') for key, value in data.items() if value.get('company_info_summarized')])\n",
    "company_name_business = np.array([value.get('company_abbreviation_name (kor)') for key, value in data.items() if value.get('business_info_summarized')])\n",
    "embedding_of_business_info_summarized = np.array([value.get('embedding_of_business_info_summarized') for key, value in data.items() if value.get('business_info_summarized')])"
   ]
  },
  {
   "cell_type": "markdown",
   "metadata": {},
   "source": [
    "# Company Info"
   ]
  },
  {
   "cell_type": "code",
   "execution_count": 6,
   "metadata": {},
   "outputs": [],
   "source": [
    "index = faiss.IndexFlatL2(embedding_of_business_info_summarized.shape[1])\n",
    "index.add(embedding_of_company_info_summarized)"
   ]
  },
  {
   "cell_type": "code",
   "execution_count": 31,
   "metadata": {},
   "outputs": [
    {
     "data": {
      "text/plain": [
       "array(['BNK금융지주'], dtype='<U11')"
      ]
     },
     "execution_count": 31,
     "metadata": {},
     "output_type": "execute_result"
    }
   ],
   "source": [
    "company_name_company[4:5]"
   ]
  },
  {
   "cell_type": "code",
   "execution_count": 37,
   "metadata": {},
   "outputs": [
    {
     "data": {
      "text/plain": [
       "array(['DB손해보험', '삼성에스디에스', 'SK아이이테크놀로지', '다올투자증권', 'SK케미칼', 'NH투자증권',\n",
       "       '영풍제지', 'KT&G', 'KISCO홀딩스', '현대백화점', '한국철강', '신세계건설', '한국토지신탁',\n",
       "       '효성첨단소재', '경동인베스트', '메리츠금융지주', '쌍용C&E', '일신석재', '효성', '아시아나항공'],\n",
       "      dtype='<U11')"
      ]
     },
     "execution_count": 37,
     "metadata": {},
     "output_type": "execute_result"
    }
   ],
   "source": [
    "distances, indices = index.search(embedding_of_company_info_summarized[11:12], 20)\n",
    "company_name_company.take(indices.squeeze())"
   ]
  },
  {
   "cell_type": "markdown",
   "metadata": {},
   "source": [
    "# Business Info"
   ]
  },
  {
   "cell_type": "code",
   "execution_count": 23,
   "metadata": {},
   "outputs": [],
   "source": [
    "index = faiss.IndexFlatL2(embedding_of_business_info_summarized.shape[1])\n",
    "index.add(embedding_of_business_info_summarized)"
   ]
  },
  {
   "cell_type": "code",
   "execution_count": 24,
   "metadata": {},
   "outputs": [
    {
     "data": {
      "text/plain": [
       "array(['BNK금융지주', '지역난방공사', 'KCTC', 'JW생명과학', 'DB', '한미사이언스', 'SK오션플랜트',\n",
       "       'DGB금융지주', '유화증권', '수산중공업', '케이씨텍', '한국타이어앤테크놀로지', '한국공항',\n",
       "       '롯데관광개발', '국보', '남선알미늄', '한일홀딩스', '금양', '대덕전자', '삼정펄프'],\n",
       "      dtype='<U11')"
      ]
     },
     "execution_count": 24,
     "metadata": {},
     "output_type": "execute_result"
    }
   ],
   "source": [
    "distances, indices = index.search(embedding_of_business_info_summarized[4:5], 20)\n",
    "company_name_business.take(indices.squeeze())"
   ]
  }
 ],
 "metadata": {
  "kernelspec": {
   "display_name": "base",
   "language": "python",
   "name": "python3"
  },
  "language_info": {
   "codemirror_mode": {
    "name": "ipython",
    "version": 3
   },
   "file_extension": ".py",
   "mimetype": "text/x-python",
   "name": "python",
   "nbconvert_exporter": "python",
   "pygments_lexer": "ipython3",
   "version": "3.9.18"
  }
 },
 "nbformat": 4,
 "nbformat_minor": 2
}
