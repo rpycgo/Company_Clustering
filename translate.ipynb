{
 "cells": [
  {
   "cell_type": "code",
   "execution_count": 18,
   "metadata": {},
   "outputs": [],
   "source": [
    "from ast import literal_eval\n",
    "import pandas as pd\n",
    "import deepl\n",
    "\n",
    "from tqdm import tqdm"
   ]
  },
  {
   "cell_type": "code",
   "execution_count": 5,
   "metadata": {},
   "outputs": [],
   "source": [
    "data = pd.read_csv(\"/Users/raphaelseo/Documents/projects/side_project/finance/Company_Clustering/sector.csv\", index_col=0)"
   ]
  },
  {
   "cell_type": "code",
   "execution_count": 6,
   "metadata": {},
   "outputs": [
    {
     "data": {
      "text/html": [
       "<div>\n",
       "<style scoped>\n",
       "    .dataframe tbody tr th:only-of-type {\n",
       "        vertical-align: middle;\n",
       "    }\n",
       "\n",
       "    .dataframe tbody tr th {\n",
       "        vertical-align: top;\n",
       "    }\n",
       "\n",
       "    .dataframe thead th {\n",
       "        text-align: right;\n",
       "    }\n",
       "</style>\n",
       "<table border=\"1\" class=\"dataframe\">\n",
       "  <thead>\n",
       "    <tr style=\"text-align: right;\">\n",
       "      <th></th>\n",
       "      <th>stock_code</th>\n",
       "      <th>sector</th>\n",
       "    </tr>\n",
       "  </thead>\n",
       "  <tbody>\n",
       "    <tr>\n",
       "      <th>0</th>\n",
       "      <td>2790</td>\n",
       "      <td>['manufacturing and selling cosmetics', 'house...</td>\n",
       "    </tr>\n",
       "    <tr>\n",
       "      <th>1</th>\n",
       "      <td>90430</td>\n",
       "      <td>['manufacturing and sale of cosmetics', 'house...</td>\n",
       "    </tr>\n",
       "    <tr>\n",
       "      <th>2</th>\n",
       "      <td>950210</td>\n",
       "      <td>['biotechnology', 'pharmaceuticals', 'vaccines']</td>\n",
       "    </tr>\n",
       "    <tr>\n",
       "      <th>3</th>\n",
       "      <td>377190</td>\n",
       "      <td>['real estate investment trusts (REITs)']</td>\n",
       "    </tr>\n",
       "    <tr>\n",
       "      <th>4</th>\n",
       "      <td>5390</td>\n",
       "      <td>['textile and apparel exports', 'fashion brand...</td>\n",
       "    </tr>\n",
       "    <tr>\n",
       "      <th>...</th>\n",
       "      <td>...</td>\n",
       "      <td>...</td>\n",
       "    </tr>\n",
       "    <tr>\n",
       "      <th>2304</th>\n",
       "      <td>33200</td>\n",
       "      <td>['manufacturing and sale of stepping motors', ...</td>\n",
       "    </tr>\n",
       "    <tr>\n",
       "      <th>2305</th>\n",
       "      <td>950170</td>\n",
       "      <td>['retail operations']</td>\n",
       "    </tr>\n",
       "    <tr>\n",
       "      <th>2306</th>\n",
       "      <td>38540</td>\n",
       "      <td>['information and communication services', 'fi...</td>\n",
       "    </tr>\n",
       "    <tr>\n",
       "      <th>2307</th>\n",
       "      <td>357230</td>\n",
       "      <td>['health functional foods', 'pet products', 'e...</td>\n",
       "    </tr>\n",
       "    <tr>\n",
       "      <th>2308</th>\n",
       "      <td>27050</td>\n",
       "      <td>['manufacturing and sale of cosmetics']</td>\n",
       "    </tr>\n",
       "  </tbody>\n",
       "</table>\n",
       "<p>2309 rows × 2 columns</p>\n",
       "</div>"
      ],
      "text/plain": [
       "      stock_code                                             sector\n",
       "0           2790  ['manufacturing and selling cosmetics', 'house...\n",
       "1          90430  ['manufacturing and sale of cosmetics', 'house...\n",
       "2         950210   ['biotechnology', 'pharmaceuticals', 'vaccines']\n",
       "3         377190          ['real estate investment trusts (REITs)']\n",
       "4           5390  ['textile and apparel exports', 'fashion brand...\n",
       "...          ...                                                ...\n",
       "2304       33200  ['manufacturing and sale of stepping motors', ...\n",
       "2305      950170                              ['retail operations']\n",
       "2306       38540  ['information and communication services', 'fi...\n",
       "2307      357230  ['health functional foods', 'pet products', 'e...\n",
       "2308       27050            ['manufacturing and sale of cosmetics']\n",
       "\n",
       "[2309 rows x 2 columns]"
      ]
     },
     "execution_count": 6,
     "metadata": {},
     "output_type": "execute_result"
    }
   ],
   "source": [
    "data"
   ]
  },
  {
   "cell_type": "code",
   "execution_count": 7,
   "metadata": {},
   "outputs": [],
   "source": [
    "stock_code = data['stock_code']"
   ]
  },
  {
   "cell_type": "code",
   "execution_count": 8,
   "metadata": {},
   "outputs": [],
   "source": [
    "sector = data['sector']"
   ]
  },
  {
   "cell_type": "code",
   "execution_count": 14,
   "metadata": {},
   "outputs": [],
   "source": [
    "auth_key = '9b1b0339-8ba6-43a3-9011-3408e29b48a6:fx'\n",
    "translator = deepl.Translator(auth_key)"
   ]
  },
  {
   "cell_type": "code",
   "execution_count": 24,
   "metadata": {},
   "outputs": [
    {
     "name": "stderr",
     "output_type": "stream",
     "text": [
      "100%|██████████| 2309/2309 [1:01:04<00:00,  1.59s/it]\n"
     ]
    }
   ],
   "source": [
    "res = []\n",
    "\n",
    "for s in tqdm(sector):\n",
    "    r = []\n",
    "    s = literal_eval(s)\n",
    "    for t in s:\n",
    "        trans = translator.translate_text(t, target_lang=\"KO\")\n",
    "        r.append(trans.text)\n",
    "    res.append(r)"
   ]
  },
  {
   "cell_type": "code",
   "execution_count": 26,
   "metadata": {},
   "outputs": [],
   "source": [
    "result = pd.DataFrame()"
   ]
  },
  {
   "cell_type": "code",
   "execution_count": 28,
   "metadata": {},
   "outputs": [],
   "source": [
    "result['stock_code'] = stock_code\n",
    "result['sector'] = res"
   ]
  },
  {
   "cell_type": "code",
   "execution_count": 29,
   "metadata": {},
   "outputs": [
    {
     "data": {
      "text/html": [
       "<div>\n",
       "<style scoped>\n",
       "    .dataframe tbody tr th:only-of-type {\n",
       "        vertical-align: middle;\n",
       "    }\n",
       "\n",
       "    .dataframe tbody tr th {\n",
       "        vertical-align: top;\n",
       "    }\n",
       "\n",
       "    .dataframe thead th {\n",
       "        text-align: right;\n",
       "    }\n",
       "</style>\n",
       "<table border=\"1\" class=\"dataframe\">\n",
       "  <thead>\n",
       "    <tr style=\"text-align: right;\">\n",
       "      <th></th>\n",
       "      <th>stock_code</th>\n",
       "      <th>sector</th>\n",
       "    </tr>\n",
       "  </thead>\n",
       "  <tbody>\n",
       "    <tr>\n",
       "      <th>0</th>\n",
       "      <td>2790</td>\n",
       "      <td>[화장품 제조 및 판매, 가정용품, 건강 기능 식품]</td>\n",
       "    </tr>\n",
       "    <tr>\n",
       "      <th>1</th>\n",
       "      <td>90430</td>\n",
       "      <td>[화장품 제조 및 판매, 가정용품, 건강기능식품 판매]</td>\n",
       "    </tr>\n",
       "    <tr>\n",
       "      <th>2</th>\n",
       "      <td>950210</td>\n",
       "      <td>[생명공학, 제약, 백신]</td>\n",
       "    </tr>\n",
       "    <tr>\n",
       "      <th>3</th>\n",
       "      <td>377190</td>\n",
       "      <td>[부동산 투자 신탁(REIT)]</td>\n",
       "    </tr>\n",
       "    <tr>\n",
       "      <th>4</th>\n",
       "      <td>5390</td>\n",
       "      <td>[섬유 및 의류 수출, 패션 브랜드, 소매 운영]</td>\n",
       "    </tr>\n",
       "  </tbody>\n",
       "</table>\n",
       "</div>"
      ],
      "text/plain": [
       "   stock_code                          sector\n",
       "0        2790   [화장품 제조 및 판매, 가정용품, 건강 기능 식품]\n",
       "1       90430  [화장품 제조 및 판매, 가정용품, 건강기능식품 판매]\n",
       "2      950210                  [생명공학, 제약, 백신]\n",
       "3      377190               [부동산 투자 신탁(REIT)]\n",
       "4        5390     [섬유 및 의류 수출, 패션 브랜드, 소매 운영]"
      ]
     },
     "execution_count": 29,
     "metadata": {},
     "output_type": "execute_result"
    }
   ],
   "source": [
    "result.head()"
   ]
  },
  {
   "cell_type": "code",
   "execution_count": 30,
   "metadata": {},
   "outputs": [],
   "source": [
    "result.to_csv('sector2.csv')"
   ]
  },
  {
   "cell_type": "code",
   "execution_count": null,
   "metadata": {},
   "outputs": [],
   "source": []
  }
 ],
 "metadata": {
  "kernelspec": {
   "display_name": "finance-sybVw_70-py3.10",
   "language": "python",
   "name": "python3"
  },
  "language_info": {
   "codemirror_mode": {
    "name": "ipython",
    "version": 3
   },
   "file_extension": ".py",
   "mimetype": "text/x-python",
   "name": "python",
   "nbconvert_exporter": "python",
   "pygments_lexer": "ipython3",
   "version": "3.10.13"
  }
 },
 "nbformat": 4,
 "nbformat_minor": 2
}
